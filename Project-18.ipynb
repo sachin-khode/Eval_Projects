{
 "cells": [
  {
   "cell_type": "code",
   "execution_count": 263,
   "metadata": {},
   "outputs": [
    {
     "name": "stdout",
     "output_type": "stream",
     "text": [
      "Collecting xgboost\n",
      "  Downloading https://files.pythonhosted.org/packages/70/91/551d37ba472bcbd70a25e667acc65a18a9d053657b13afcf0f87aa24d7bb/xgboost-1.0.2-py3-none-manylinux1_x86_64.whl (109.7MB)\n",
      "\u001b[K    100% |████████████████████████████████| 109.8MB 10kB/s  eta 0:00:01   25% |████████▎                       | 28.4MB 934kB/s eta 0:01:28    39% |████████████▊                   | 43.5MB 1.7MB/s eta 0:00:39    41% |█████████████▎                  | 45.4MB 845kB/s eta 0:01:17    60% |███████████████████▍            | 66.6MB 2.6MB/s eta 0:00:17    72% |███████████████████████▍        | 80.1MB 38.4MB/s eta 0:00:01    90% |█████████████████████████████   | 99.5MB 551kB/s eta 0:00:19    98% |███████████████████████████████▌| 108.0MB 687kB/s eta 0:00:03\n",
      "\u001b[?25hCollecting scipy (from xgboost)\n",
      "  Downloading https://files.pythonhosted.org/packages/dc/29/162476fd44203116e7980cfbd9352eef9db37c49445d1fec35509022f6aa/scipy-1.4.1-cp36-cp36m-manylinux1_x86_64.whl (26.1MB)\n",
      "\u001b[K    100% |████████████████████████████████| 26.1MB 43kB/s eta 0:00:011  31% |██████████▏                     | 8.3MB 1.8MB/s eta 0:00:11    77% |████████████████████████▊       | 20.2MB 44.6MB/s eta 0:00:01    94% |██████████████████████████████  | 24.5MB 1.1MB/s eta 0:00:02\n",
      "\u001b[?25hCollecting numpy (from xgboost)\n",
      "  Downloading https://files.pythonhosted.org/packages/62/20/4d43e141b5bc426ba38274933ef8e76e85c7adea2c321ecf9ebf7421cedf/numpy-1.18.1-cp36-cp36m-manylinux1_x86_64.whl (20.1MB)\n",
      "\u001b[K    100% |████████████████████████████████| 20.2MB 52kB/s eta 0:00:01   17% |█████▊                          | 3.6MB 1.5MB/s eta 0:00:11    22% |███████▎                        | 4.6MB 2.0MB/s eta 0:00:08    83% |██████████████████████████▋     | 16.8MB 1.5MB/s eta 0:00:03\n",
      "\u001b[?25hInstalling collected packages: numpy, scipy, xgboost\n",
      "Successfully installed numpy-1.18.1 scipy-1.4.1 xgboost-1.0.2\n"
     ]
    }
   ],
   "source": [
    "!pip3 install xgboost\n"
   ]
  },
  {
   "cell_type": "code",
   "execution_count": 267,
   "metadata": {},
   "outputs": [
    {
     "name": "stdout",
     "output_type": "stream",
     "text": [
      "Collecting package metadata (current_repodata.json): done\n",
      "Solving environment: done\n",
      "\n",
      "# All requested packages already installed.\n",
      "\n",
      "\n",
      "Note: you may need to restart the kernel to use updated packages.\n"
     ]
    }
   ],
   "source": [
    "conda install -c anaconda py-xgboost\n"
   ]
  },
  {
   "cell_type": "code",
   "execution_count": 289,
   "metadata": {},
   "outputs": [],
   "source": [
    "import pandas as pd\n",
    "import numpy as np\n",
    "import matplotlib.pyplot as plt\n",
    "import seaborn as sns\n",
    "# import xgboost\n",
    "%matplotlib inline"
   ]
  },
  {
   "cell_type": "code",
   "execution_count": 290,
   "metadata": {},
   "outputs": [],
   "source": [
    "df_train = pd.read_excel('/home/sk-ji/Downloads/Doctor_fee_consultation/Final Participant Data Folder/Final_Train.xlsx')\n",
    "df_test = pd.read_excel('/home/sk-ji/Downloads/Doctor_fee_consultation/Final Participant Data Folder/Final_Test.xlsx')\n"
   ]
  },
  {
   "cell_type": "code",
   "execution_count": 291,
   "metadata": {},
   "outputs": [],
   "source": [
    "df_train[\"type\"]=\"train\"\n",
    "df_test[\"type\"]=\"test\""
   ]
  },
  {
   "cell_type": "code",
   "execution_count": 292,
   "metadata": {},
   "outputs": [
    {
     "data": {
      "text/plain": [
       "(1987, 7)"
      ]
     },
     "execution_count": 292,
     "metadata": {},
     "output_type": "execute_result"
    }
   ],
   "source": [
    "df_train.head()\n",
    "df_test.head()\n",
    "df_train.shape\n",
    "df_test.shape\n"
   ]
  },
  {
   "cell_type": "code",
   "execution_count": 293,
   "metadata": {},
   "outputs": [
    {
     "name": "stderr",
     "output_type": "stream",
     "text": [
      "/home/sk-ji/anaconda3/lib/python3.7/site-packages/ipykernel_launcher.py:1: FutureWarning: Sorting because non-concatenation axis is not aligned. A future version\n",
      "of pandas will change to not sort by default.\n",
      "\n",
      "To accept the future behavior, pass 'sort=False'.\n",
      "\n",
      "To retain the current behavior and silence the warning, pass 'sort=True'.\n",
      "\n",
      "  \"\"\"Entry point for launching an IPython kernel.\n"
     ]
    }
   ],
   "source": [
    "df = pd.concat([df_train,df_test],ignore_index= True)"
   ]
  },
  {
   "cell_type": "code",
   "execution_count": 294,
   "metadata": {},
   "outputs": [
    {
     "data": {
      "text/html": [
       "<div>\n",
       "<style scoped>\n",
       "    .dataframe tbody tr th:only-of-type {\n",
       "        vertical-align: middle;\n",
       "    }\n",
       "\n",
       "    .dataframe tbody tr th {\n",
       "        vertical-align: top;\n",
       "    }\n",
       "\n",
       "    .dataframe thead th {\n",
       "        text-align: right;\n",
       "    }\n",
       "</style>\n",
       "<table border=\"1\" class=\"dataframe\">\n",
       "  <thead>\n",
       "    <tr style=\"text-align: right;\">\n",
       "      <th></th>\n",
       "      <th>Experience</th>\n",
       "      <th>Fees</th>\n",
       "      <th>Miscellaneous_Info</th>\n",
       "      <th>Place</th>\n",
       "      <th>Profile</th>\n",
       "      <th>Qualification</th>\n",
       "      <th>Rating</th>\n",
       "      <th>type</th>\n",
       "    </tr>\n",
       "  </thead>\n",
       "  <tbody>\n",
       "    <tr>\n",
       "      <td>0</td>\n",
       "      <td>24 years experience</td>\n",
       "      <td>100.0</td>\n",
       "      <td>100% 16 Feedback Kakkanad, Ernakulam</td>\n",
       "      <td>Kakkanad, Ernakulam</td>\n",
       "      <td>Homeopath</td>\n",
       "      <td>BHMS, MD - Homeopathy</td>\n",
       "      <td>100%</td>\n",
       "      <td>train</td>\n",
       "    </tr>\n",
       "    <tr>\n",
       "      <td>1</td>\n",
       "      <td>12 years experience</td>\n",
       "      <td>350.0</td>\n",
       "      <td>98% 76 Feedback Whitefield, Bangalore</td>\n",
       "      <td>Whitefield, Bangalore</td>\n",
       "      <td>Ayurveda</td>\n",
       "      <td>BAMS, MD - Ayurveda Medicine</td>\n",
       "      <td>98%</td>\n",
       "      <td>train</td>\n",
       "    </tr>\n",
       "    <tr>\n",
       "      <td>2</td>\n",
       "      <td>9 years experience</td>\n",
       "      <td>300.0</td>\n",
       "      <td>NaN</td>\n",
       "      <td>Mathikere - BEL, Bangalore</td>\n",
       "      <td>ENT Specialist</td>\n",
       "      <td>MBBS, MS - Otorhinolaryngology</td>\n",
       "      <td>NaN</td>\n",
       "      <td>train</td>\n",
       "    </tr>\n",
       "    <tr>\n",
       "      <td>3</td>\n",
       "      <td>12 years experience</td>\n",
       "      <td>250.0</td>\n",
       "      <td>Bannerghatta Road, Bangalore ₹250 Available on...</td>\n",
       "      <td>Bannerghatta Road, Bangalore</td>\n",
       "      <td>Ayurveda</td>\n",
       "      <td>BSc - Zoology, BAMS</td>\n",
       "      <td>NaN</td>\n",
       "      <td>train</td>\n",
       "    </tr>\n",
       "    <tr>\n",
       "      <td>4</td>\n",
       "      <td>20 years experience</td>\n",
       "      <td>250.0</td>\n",
       "      <td>100% 4 Feedback Keelkattalai, Chennai</td>\n",
       "      <td>Keelkattalai, Chennai</td>\n",
       "      <td>Ayurveda</td>\n",
       "      <td>BAMS</td>\n",
       "      <td>100%</td>\n",
       "      <td>train</td>\n",
       "    </tr>\n",
       "  </tbody>\n",
       "</table>\n",
       "</div>"
      ],
      "text/plain": [
       "            Experience   Fees  \\\n",
       "0  24 years experience  100.0   \n",
       "1  12 years experience  350.0   \n",
       "2   9 years experience  300.0   \n",
       "3  12 years experience  250.0   \n",
       "4  20 years experience  250.0   \n",
       "\n",
       "                                  Miscellaneous_Info  \\\n",
       "0               100% 16 Feedback Kakkanad, Ernakulam   \n",
       "1              98% 76 Feedback Whitefield, Bangalore   \n",
       "2                                                NaN   \n",
       "3  Bannerghatta Road, Bangalore ₹250 Available on...   \n",
       "4              100% 4 Feedback Keelkattalai, Chennai   \n",
       "\n",
       "                          Place         Profile  \\\n",
       "0           Kakkanad, Ernakulam       Homeopath   \n",
       "1         Whitefield, Bangalore        Ayurveda   \n",
       "2    Mathikere - BEL, Bangalore  ENT Specialist   \n",
       "3  Bannerghatta Road, Bangalore        Ayurveda   \n",
       "4         Keelkattalai, Chennai        Ayurveda   \n",
       "\n",
       "                    Qualification Rating   type  \n",
       "0           BHMS, MD - Homeopathy   100%  train  \n",
       "1    BAMS, MD - Ayurveda Medicine    98%  train  \n",
       "2  MBBS, MS - Otorhinolaryngology    NaN  train  \n",
       "3             BSc - Zoology, BAMS    NaN  train  \n",
       "4                            BAMS   100%  train  "
      ]
     },
     "execution_count": 294,
     "metadata": {},
     "output_type": "execute_result"
    }
   ],
   "source": [
    "df.head()\n",
    "# df.shape"
   ]
  },
  {
   "cell_type": "code",
   "execution_count": 295,
   "metadata": {},
   "outputs": [
    {
     "data": {
      "text/plain": [
       "train    5961\n",
       "test     1987\n",
       "Name: type, dtype: int64"
      ]
     },
     "execution_count": 295,
     "metadata": {},
     "output_type": "execute_result"
    }
   ],
   "source": [
    "df['type'].value_counts()"
   ]
  },
  {
   "cell_type": "markdown",
   "metadata": {},
   "source": [
    "### cheacking missing values"
   ]
  },
  {
   "cell_type": "code",
   "execution_count": 296,
   "metadata": {},
   "outputs": [
    {
     "data": {
      "text/plain": [
       "Experience               0\n",
       "Fees                  1987\n",
       "Miscellaneous_Info    3454\n",
       "Place                   31\n",
       "Profile                  0\n",
       "Qualification            0\n",
       "Rating                4392\n",
       "type                     0\n",
       "dtype: int64"
      ]
     },
     "execution_count": 296,
     "metadata": {},
     "output_type": "execute_result"
    }
   ],
   "source": [
    "df.isnull().sum()"
   ]
  },
  {
   "cell_type": "markdown",
   "metadata": {},
   "source": [
    "### ploting missing values"
   ]
  },
  {
   "cell_type": "code",
   "execution_count": 297,
   "metadata": {},
   "outputs": [
    {
     "data": {
      "text/plain": [
       "<matplotlib.axes._subplots.AxesSubplot at 0x7fae61972890>"
      ]
     },
     "execution_count": 297,
     "metadata": {},
     "output_type": "execute_result"
    },
    {
     "data": {
      "image/png": "[encoded data removed]",
      "text/plain": [
       "<Figure size 1296x576 with 2 Axes>"
      ]
     },
     "metadata": {},
     "output_type": "display_data"
    }
   ],
   "source": [
    "sns.set(font_scale=2)\n",
    "plt.figure(figsize=(18,8))\n",
    "sns.heatmap(df.isnull())"
   ]
  },
  {
   "cell_type": "code",
   "execution_count": 298,
   "metadata": {},
   "outputs": [
    {
     "data": {
      "text/plain": [
       "Experience             object\n",
       "Fees                  float64\n",
       "Miscellaneous_Info     object\n",
       "Place                  object\n",
       "Profile                object\n",
       "Qualification          object\n",
       "Rating                 object\n",
       "type                   object\n",
       "dtype: object"
      ]
     },
     "execution_count": 298,
     "metadata": {},
     "output_type": "execute_result"
    }
   ],
   "source": [
    "df.dtypes"
   ]
  },
  {
   "cell_type": "code",
   "execution_count": 299,
   "metadata": {},
   "outputs": [],
   "source": [
    "df[\"Fees\"].fillna(df['Fees'].mean(),inplace=True)\n"
   ]
  },
  {
   "cell_type": "code",
   "execution_count": 300,
   "metadata": {},
   "outputs": [],
   "source": [
    "NA = 'NA'\n",
    "df[\"Miscellaneous_Info\"].fillna(NA,inplace=True)\n"
   ]
  },
  {
   "cell_type": "markdown",
   "metadata": {},
   "source": [
    "In Place Column only 31 values are missing so we can impute them as others"
   ]
  },
  {
   "cell_type": "code",
   "execution_count": 301,
   "metadata": {},
   "outputs": [],
   "source": [
    "Others = 'Others'\n",
    "df[\"Place\"].fillna(Others,inplace=True)\n"
   ]
  },
  {
   "cell_type": "markdown",
   "metadata": {},
   "source": [
    "To treat the missing value of Rating we can impute the average rating to it before this we need to convert this in int or float dtypes"
   ]
  },
  {
   "cell_type": "code",
   "execution_count": 302,
   "metadata": {},
   "outputs": [],
   "source": [
    "df[\"Rating\"]=df[\"Rating\"].str.strip(\"%\")"
   ]
  },
  {
   "cell_type": "code",
   "execution_count": 303,
   "metadata": {},
   "outputs": [
    {
     "data": {
      "text/plain": [
       "0    100\n",
       "1     98\n",
       "2    NaN\n",
       "3    NaN\n",
       "4    100\n",
       "Name: Rating, dtype: object"
      ]
     },
     "execution_count": 303,
     "metadata": {},
     "output_type": "execute_result"
    }
   ],
   "source": [
    "df[\"Rating\"].head()"
   ]
  },
  {
   "cell_type": "code",
   "execution_count": 304,
   "metadata": {},
   "outputs": [],
   "source": [
    "df[\"Rating\"]=df[\"Rating\"].astype(float)\n"
   ]
  },
  {
   "cell_type": "code",
   "execution_count": 305,
   "metadata": {},
   "outputs": [
    {
     "data": {
      "text/plain": [
       "dtype('float64')"
      ]
     },
     "execution_count": 305,
     "metadata": {},
     "output_type": "execute_result"
    }
   ],
   "source": [
    "df[\"Rating\"].dtypes"
   ]
  },
  {
   "cell_type": "code",
   "execution_count": 306,
   "metadata": {},
   "outputs": [],
   "source": [
    "#now treating the missing values in rating\n",
    "df[\"Rating\"].fillna(50,inplace=True)\n"
   ]
  },
  {
   "cell_type": "code",
   "execution_count": 307,
   "metadata": {},
   "outputs": [
    {
     "data": {
      "text/plain": [
       "<matplotlib.axes._subplots.AxesSubplot at 0x7fae61b816d0>"
      ]
     },
     "execution_count": 307,
     "metadata": {},
     "output_type": "execute_result"
    },
    {
     "data": {
      "image/png": "[encoded data removed]",
      "text/plain": [
       "<Figure size 432x288 with 2 Axes>"
      ]
     },
     "metadata": {},
     "output_type": "display_data"
    }
   ],
   "source": [
    "sns.heatmap(df.isnull())"
   ]
  },
  {
   "cell_type": "code",
   "execution_count": 308,
   "metadata": {},
   "outputs": [],
   "source": [
    "df[\"Experience\"]=df[\"Experience\"].str.strip(\" years experience\")"
   ]
  },
  {
   "cell_type": "code",
   "execution_count": 309,
   "metadata": {},
   "outputs": [
    {
     "data": {
      "text/html": [
       "<div>\n",
       "<style scoped>\n",
       "    .dataframe tbody tr th:only-of-type {\n",
       "        vertical-align: middle;\n",
       "    }\n",
       "\n",
       "    .dataframe tbody tr th {\n",
       "        vertical-align: top;\n",
       "    }\n",
       "\n",
       "    .dataframe thead th {\n",
       "        text-align: right;\n",
       "    }\n",
       "</style>\n",
       "<table border=\"1\" class=\"dataframe\">\n",
       "  <thead>\n",
       "    <tr style=\"text-align: right;\">\n",
       "      <th></th>\n",
       "      <th>Experience</th>\n",
       "      <th>Fees</th>\n",
       "      <th>Miscellaneous_Info</th>\n",
       "      <th>Place</th>\n",
       "      <th>Profile</th>\n",
       "      <th>Qualification</th>\n",
       "      <th>Rating</th>\n",
       "      <th>type</th>\n",
       "    </tr>\n",
       "  </thead>\n",
       "  <tbody>\n",
       "    <tr>\n",
       "      <td>0</td>\n",
       "      <td>24</td>\n",
       "      <td>100.0</td>\n",
       "      <td>100% 16 Feedback Kakkanad, Ernakulam</td>\n",
       "      <td>Kakkanad, Ernakulam</td>\n",
       "      <td>Homeopath</td>\n",
       "      <td>BHMS, MD - Homeopathy</td>\n",
       "      <td>100.0</td>\n",
       "      <td>train</td>\n",
       "    </tr>\n",
       "    <tr>\n",
       "      <td>1</td>\n",
       "      <td>12</td>\n",
       "      <td>350.0</td>\n",
       "      <td>98% 76 Feedback Whitefield, Bangalore</td>\n",
       "      <td>Whitefield, Bangalore</td>\n",
       "      <td>Ayurveda</td>\n",
       "      <td>BAMS, MD - Ayurveda Medicine</td>\n",
       "      <td>98.0</td>\n",
       "      <td>train</td>\n",
       "    </tr>\n",
       "    <tr>\n",
       "      <td>2</td>\n",
       "      <td>9</td>\n",
       "      <td>300.0</td>\n",
       "      <td>NA</td>\n",
       "      <td>Mathikere - BEL, Bangalore</td>\n",
       "      <td>ENT Specialist</td>\n",
       "      <td>MBBS, MS - Otorhinolaryngology</td>\n",
       "      <td>50.0</td>\n",
       "      <td>train</td>\n",
       "    </tr>\n",
       "    <tr>\n",
       "      <td>3</td>\n",
       "      <td>12</td>\n",
       "      <td>250.0</td>\n",
       "      <td>Bannerghatta Road, Bangalore ₹250 Available on...</td>\n",
       "      <td>Bannerghatta Road, Bangalore</td>\n",
       "      <td>Ayurveda</td>\n",
       "      <td>BSc - Zoology, BAMS</td>\n",
       "      <td>50.0</td>\n",
       "      <td>train</td>\n",
       "    </tr>\n",
       "    <tr>\n",
       "      <td>4</td>\n",
       "      <td>20</td>\n",
       "      <td>250.0</td>\n",
       "      <td>100% 4 Feedback Keelkattalai, Chennai</td>\n",
       "      <td>Keelkattalai, Chennai</td>\n",
       "      <td>Ayurveda</td>\n",
       "      <td>BAMS</td>\n",
       "      <td>100.0</td>\n",
       "      <td>train</td>\n",
       "    </tr>\n",
       "  </tbody>\n",
       "</table>\n",
       "</div>"
      ],
      "text/plain": [
       "  Experience   Fees                                 Miscellaneous_Info  \\\n",
       "0         24  100.0               100% 16 Feedback Kakkanad, Ernakulam   \n",
       "1         12  350.0              98% 76 Feedback Whitefield, Bangalore   \n",
       "2          9  300.0                                                 NA   \n",
       "3         12  250.0  Bannerghatta Road, Bangalore ₹250 Available on...   \n",
       "4         20  250.0              100% 4 Feedback Keelkattalai, Chennai   \n",
       "\n",
       "                          Place         Profile  \\\n",
       "0           Kakkanad, Ernakulam       Homeopath   \n",
       "1         Whitefield, Bangalore        Ayurveda   \n",
       "2    Mathikere - BEL, Bangalore  ENT Specialist   \n",
       "3  Bannerghatta Road, Bangalore        Ayurveda   \n",
       "4         Keelkattalai, Chennai        Ayurveda   \n",
       "\n",
       "                    Qualification  Rating   type  \n",
       "0           BHMS, MD - Homeopathy   100.0  train  \n",
       "1    BAMS, MD - Ayurveda Medicine    98.0  train  \n",
       "2  MBBS, MS - Otorhinolaryngology    50.0  train  \n",
       "3             BSc - Zoology, BAMS    50.0  train  \n",
       "4                            BAMS   100.0  train  "
      ]
     },
     "execution_count": 309,
     "metadata": {},
     "output_type": "execute_result"
    }
   ],
   "source": [
    "df.head()"
   ]
  },
  {
   "cell_type": "code",
   "execution_count": 310,
   "metadata": {},
   "outputs": [
    {
     "data": {
      "text/plain": [
       "Dentist             1838\n",
       "General Medicine    1617\n",
       "Dermatologists      1373\n",
       "Homeopath           1120\n",
       "Ayurveda            1037\n",
       "ENT Specialist       963\n",
       "Name: Profile, dtype: int64"
      ]
     },
     "execution_count": 310,
     "metadata": {},
     "output_type": "execute_result"
    }
   ],
   "source": [
    "df['Profile'].value_counts()"
   ]
  },
  {
   "cell_type": "code",
   "execution_count": 311,
   "metadata": {},
   "outputs": [
    {
     "data": {
      "text/plain": [
       "1    1838\n",
       "4    1617\n",
       "2    1373\n",
       "5    1120\n",
       "0    1037\n",
       "3     963\n",
       "Name: Profile, dtype: int64"
      ]
     },
     "execution_count": 311,
     "metadata": {},
     "output_type": "execute_result"
    }
   ],
   "source": [
    "from sklearn.preprocessing import LabelEncoder\n",
    "encoder = LabelEncoder()\n",
    "df['Profile'] = encoder.fit_transform(df['Profile'])\n",
    "df['Profile'].value_counts()\n"
   ]
  },
  {
   "cell_type": "code",
   "execution_count": 312,
   "metadata": {},
   "outputs": [
    {
     "data": {
      "text/plain": [
       "array(['BHMS, MD - Homeopathy', 'BAMS, MD - Ayurveda Medicine',\n",
       "       'MBBS, MS - Otorhinolaryngology', ...,\n",
       "       'MD - Medicine, Post Graduate Diploma in Diabetology (PGDD), MBBS, FRCP - Internal Medicine',\n",
       "       'MBBS, MS - General Surgery, FAIS, FIAGES',\n",
       "       'MBBS, MD / MS - Obstetrics & Gynaecology'], dtype=object)"
      ]
     },
     "execution_count": 312,
     "metadata": {},
     "output_type": "execute_result"
    }
   ],
   "source": [
    "df['Qualification'].unique()\n"
   ]
  },
  {
   "cell_type": "code",
   "execution_count": 313,
   "metadata": {},
   "outputs": [],
   "source": [
    "# sss['Qualification'].str.split()"
   ]
  },
  {
   "cell_type": "code",
   "execution_count": 314,
   "metadata": {},
   "outputs": [
    {
     "data": {
      "text/plain": [
       "0                    BHMS\n",
       "1                    BAMS\n",
       "2                    MBBS\n",
       "3           BSc - Zoology\n",
       "4                    BAMS\n",
       "              ...        \n",
       "7943                 BAMS\n",
       "7944    MD - Dermatology \n",
       "7945                 MBBS\n",
       "7946                  BDS\n",
       "7947                 MBBS\n",
       "Name: Qual_1, Length: 7948, dtype: object"
      ]
     },
     "execution_count": 314,
     "metadata": {},
     "output_type": "execute_result"
    }
   ],
   "source": [
    "df['Qual_1'] = df['Qualification'].str.split(',').str[0]\n",
    "df['Qual_1']"
   ]
  },
  {
   "cell_type": "code",
   "execution_count": 315,
   "metadata": {},
   "outputs": [
    {
     "data": {
      "text/plain": [
       "0                           MD - Homeopathy\n",
       "1                    MD - Ayurveda Medicine\n",
       "2                  MS - Otorhinolaryngology\n",
       "3                                      BAMS\n",
       "4                                       NaN\n",
       "                       ...                 \n",
       "7943                     Doctor of Medicine\n",
       "7944                  Venereology & Leprosy\n",
       "7945     MD / MS - Obstetrics & Gynaecology\n",
       "7946                                    NaN\n",
       "7947                      MD - Dermatology \n",
       "Name: Qual_2, Length: 7948, dtype: object"
      ]
     },
     "execution_count": 315,
     "metadata": {},
     "output_type": "execute_result"
    }
   ],
   "source": [
    "df['Qual_2'] = df['Qualification'].str.split(',').str[1]\n",
    "df['Qual_2']"
   ]
  },
  {
   "cell_type": "code",
   "execution_count": 316,
   "metadata": {},
   "outputs": [
    {
     "data": {
      "text/plain": [
       "0                          NaN\n",
       "1                          NaN\n",
       "2                          NaN\n",
       "3                          NaN\n",
       "4                          NaN\n",
       "                 ...          \n",
       "7943                       NaN\n",
       "7944                      MBBS\n",
       "7945                       NaN\n",
       "7946                       NaN\n",
       "7947     Venereology & Leprosy\n",
       "Name: Qual_3, Length: 7948, dtype: object"
      ]
     },
     "execution_count": 316,
     "metadata": {},
     "output_type": "execute_result"
    }
   ],
   "source": [
    "df['Qual_3'] = df['Qualification'].str.split(',').str[2]\n",
    "df['Qual_3']"
   ]
  },
  {
   "cell_type": "code",
   "execution_count": 317,
   "metadata": {},
   "outputs": [
    {
     "data": {
      "text/html": [
       "<div>\n",
       "<style scoped>\n",
       "    .dataframe tbody tr th:only-of-type {\n",
       "        vertical-align: middle;\n",
       "    }\n",
       "\n",
       "    .dataframe tbody tr th {\n",
       "        vertical-align: top;\n",
       "    }\n",
       "\n",
       "    .dataframe thead th {\n",
       "        text-align: right;\n",
       "    }\n",
       "</style>\n",
       "<table border=\"1\" class=\"dataframe\">\n",
       "  <thead>\n",
       "    <tr style=\"text-align: right;\">\n",
       "      <th></th>\n",
       "      <th>Qual_1</th>\n",
       "      <th>Qual_2</th>\n",
       "      <th>Qual_3</th>\n",
       "    </tr>\n",
       "  </thead>\n",
       "  <tbody>\n",
       "    <tr>\n",
       "      <td>0</td>\n",
       "      <td>BHMS</td>\n",
       "      <td>MD - Homeopathy</td>\n",
       "      <td>NaN</td>\n",
       "    </tr>\n",
       "    <tr>\n",
       "      <td>1</td>\n",
       "      <td>BAMS</td>\n",
       "      <td>MD - Ayurveda Medicine</td>\n",
       "      <td>NaN</td>\n",
       "    </tr>\n",
       "    <tr>\n",
       "      <td>2</td>\n",
       "      <td>MBBS</td>\n",
       "      <td>MS - Otorhinolaryngology</td>\n",
       "      <td>NaN</td>\n",
       "    </tr>\n",
       "    <tr>\n",
       "      <td>3</td>\n",
       "      <td>BSc - Zoology</td>\n",
       "      <td>BAMS</td>\n",
       "      <td>NaN</td>\n",
       "    </tr>\n",
       "    <tr>\n",
       "      <td>4</td>\n",
       "      <td>BAMS</td>\n",
       "      <td>NaN</td>\n",
       "      <td>NaN</td>\n",
       "    </tr>\n",
       "    <tr>\n",
       "      <td>5</td>\n",
       "      <td>BAMS</td>\n",
       "      <td>NaN</td>\n",
       "      <td>NaN</td>\n",
       "    </tr>\n",
       "    <tr>\n",
       "      <td>6</td>\n",
       "      <td>BHMS</td>\n",
       "      <td>NaN</td>\n",
       "      <td>NaN</td>\n",
       "    </tr>\n",
       "    <tr>\n",
       "      <td>7</td>\n",
       "      <td>BDS</td>\n",
       "      <td>NaN</td>\n",
       "      <td>NaN</td>\n",
       "    </tr>\n",
       "    <tr>\n",
       "      <td>8</td>\n",
       "      <td>MBBS</td>\n",
       "      <td>MD - General Medicine</td>\n",
       "      <td>NaN</td>\n",
       "    </tr>\n",
       "    <tr>\n",
       "      <td>9</td>\n",
       "      <td>BSc</td>\n",
       "      <td>BDS</td>\n",
       "      <td>NaN</td>\n",
       "    </tr>\n",
       "    <tr>\n",
       "      <td>10</td>\n",
       "      <td>MBBS</td>\n",
       "      <td>MS</td>\n",
       "      <td>DNB - ENT</td>\n",
       "    </tr>\n",
       "    <tr>\n",
       "      <td>11</td>\n",
       "      <td>BAMS</td>\n",
       "      <td>NaN</td>\n",
       "      <td>NaN</td>\n",
       "    </tr>\n",
       "    <tr>\n",
       "      <td>12</td>\n",
       "      <td>BDS</td>\n",
       "      <td>MDS</td>\n",
       "      <td>NaN</td>\n",
       "    </tr>\n",
       "    <tr>\n",
       "      <td>13</td>\n",
       "      <td>BDS</td>\n",
       "      <td>MDS - Oral &amp; Maxillofacial Surgery</td>\n",
       "      <td>NaN</td>\n",
       "    </tr>\n",
       "    <tr>\n",
       "      <td>14</td>\n",
       "      <td>MBBS</td>\n",
       "      <td>Diploma in Otorhinolaryngology (DLO)</td>\n",
       "      <td>DNB - ENT</td>\n",
       "    </tr>\n",
       "    <tr>\n",
       "      <td>15</td>\n",
       "      <td>MBBS</td>\n",
       "      <td>MD - General Medicine</td>\n",
       "      <td>NaN</td>\n",
       "    </tr>\n",
       "    <tr>\n",
       "      <td>16</td>\n",
       "      <td>MBBS</td>\n",
       "      <td>Diploma in Otorhinolaryngology (DLO)</td>\n",
       "      <td>NaN</td>\n",
       "    </tr>\n",
       "    <tr>\n",
       "      <td>17</td>\n",
       "      <td>MBBS</td>\n",
       "      <td>MF- Homeopathy</td>\n",
       "      <td>NaN</td>\n",
       "    </tr>\n",
       "    <tr>\n",
       "      <td>18</td>\n",
       "      <td>MBBS</td>\n",
       "      <td>MS - ENT</td>\n",
       "      <td>NaN</td>\n",
       "    </tr>\n",
       "    <tr>\n",
       "      <td>19</td>\n",
       "      <td>MBBS</td>\n",
       "      <td>NaN</td>\n",
       "      <td>NaN</td>\n",
       "    </tr>\n",
       "  </tbody>\n",
       "</table>\n",
       "</div>"
      ],
      "text/plain": [
       "           Qual_1                                 Qual_2      Qual_3\n",
       "0            BHMS                        MD - Homeopathy         NaN\n",
       "1            BAMS                 MD - Ayurveda Medicine         NaN\n",
       "2            MBBS               MS - Otorhinolaryngology         NaN\n",
       "3   BSc - Zoology                                   BAMS         NaN\n",
       "4            BAMS                                    NaN         NaN\n",
       "5            BAMS                                    NaN         NaN\n",
       "6            BHMS                                    NaN         NaN\n",
       "7             BDS                                    NaN         NaN\n",
       "8            MBBS                  MD - General Medicine         NaN\n",
       "9             BSc                                    BDS         NaN\n",
       "10           MBBS                                     MS   DNB - ENT\n",
       "11           BAMS                                    NaN         NaN\n",
       "12            BDS                                    MDS         NaN\n",
       "13            BDS     MDS - Oral & Maxillofacial Surgery         NaN\n",
       "14           MBBS   Diploma in Otorhinolaryngology (DLO)   DNB - ENT\n",
       "15           MBBS                  MD - General Medicine         NaN\n",
       "16           MBBS   Diploma in Otorhinolaryngology (DLO)         NaN\n",
       "17           MBBS                         MF- Homeopathy         NaN\n",
       "18           MBBS                               MS - ENT         NaN\n",
       "19           MBBS                                    NaN         NaN"
      ]
     },
     "execution_count": 317,
     "metadata": {},
     "output_type": "execute_result"
    }
   ],
   "source": [
    "# df.head()\n",
    "df[['Qual_1','Qual_2','Qual_3']].head(20)"
   ]
  },
  {
   "cell_type": "code",
   "execution_count": 318,
   "metadata": {},
   "outputs": [
    {
     "data": {
      "text/plain": [
       "481"
      ]
     },
     "execution_count": 318,
     "metadata": {},
     "output_type": "execute_result"
    }
   ],
   "source": [
    "df['Qual_3'].nunique()"
   ]
  },
  {
   "cell_type": "code",
   "execution_count": null,
   "metadata": {},
   "outputs": [],
   "source": []
  },
  {
   "cell_type": "code",
   "execution_count": null,
   "metadata": {},
   "outputs": [],
   "source": []
  },
  {
   "cell_type": "markdown",
   "metadata": {},
   "source": [
    "### refining Place to single column City"
   ]
  },
  {
   "cell_type": "code",
   "execution_count": 319,
   "metadata": {},
   "outputs": [],
   "source": [
    "df['city'] = df['Place'].str.split(',').apply(lambda x: x[-1])\n"
   ]
  },
  {
   "cell_type": "code",
   "execution_count": 320,
   "metadata": {},
   "outputs": [
    {
     "data": {
      "text/plain": [
       "0"
      ]
     },
     "execution_count": 320,
     "metadata": {},
     "output_type": "execute_result"
    }
   ],
   "source": [
    "df['city'].isnull().sum()"
   ]
  },
  {
   "cell_type": "code",
   "execution_count": 321,
   "metadata": {},
   "outputs": [],
   "source": [
    "df = df.drop(['Place'],axis=1)"
   ]
  },
  {
   "cell_type": "code",
   "execution_count": 322,
   "metadata": {},
   "outputs": [
    {
     "data": {
      "text/plain": [
       "0                                 BHMS, MD - Homeopathy\n",
       "1                          BAMS, MD - Ayurveda Medicine\n",
       "2                        MBBS, MS - Otorhinolaryngology\n",
       "3                                   BSc - Zoology, BAMS\n",
       "4                                                  BAMS\n",
       "5                                                  BAMS\n",
       "6                                                  BHMS\n",
       "7                                                   BDS\n",
       "8                           MBBS, MD - General Medicine\n",
       "9                                              BSc, BDS\n",
       "10                                  MBBS, MS, DNB - ENT\n",
       "11                                                 BAMS\n",
       "12                                             BDS, MDS\n",
       "13              BDS, MDS - Oral & Maxillofacial Surgery\n",
       "14    MBBS, Diploma in Otorhinolaryngology (DLO), DN...\n",
       "15                          MBBS, MD - General Medicine\n",
       "16           MBBS, Diploma in Otorhinolaryngology (DLO)\n",
       "17                                 MBBS, MF- Homeopathy\n",
       "18                                       MBBS, MS - ENT\n",
       "19                                                 MBBS\n",
       "20                                        MDS, DNB, BDS\n",
       "21                                      MBBS, DNB - ENT\n",
       "22                                                 MBBS\n",
       "23    MBBS, Fellowship of College of General Practic...\n",
       "24                                           MBBS, DDVL\n",
       "25                                                  BDS\n",
       "26                                    MBBS, IBCLC (USA)\n",
       "27    MBBS, MD - General Medicine, Post Graduate Dip...\n",
       "28                                             BDS, MDS\n",
       "29                         Diploma in Dermatology, MBBS\n",
       "30         MBBS, DDVL, Fellowship in Aesthetic Medicine\n",
       "31                                                  BDS\n",
       "32                                       MBBS, MS - ENT\n",
       "33                DM - Neurology, MD - Pediatrics, MBBS\n",
       "34                                                 BAMS\n",
       "35    BDS, MDS - Oral & Maxillofacial Surgery, Fello...\n",
       "36                                                  BDS\n",
       "37                         BHMS, Diploma in Cosmetology\n",
       "38                            MBBS, MS - ENT, DNB - ENT\n",
       "39                                           MBBS, AFIH\n",
       "40           BDS, MDS - Prosthodontist And Crown Bridge\n",
       "41              BHMS, M. D. Hom. (Practice of Medicine)\n",
       "42    BAMS, Diploma in Emergency Medicine, Diploma i...\n",
       "43                                                 BAMS\n",
       "44    MD - Homeopathy, DHMS (Diploma in Homeopathic ...\n",
       "45       MBBS, MD - Dermatology , Venereology & Leprosy\n",
       "46          BDS, MDS - Oral and Maxillofacial Pathology\n",
       "47                                                 MBBS\n",
       "48                                           MBBS, DDVL\n",
       "49    BDS, MDS - Oral & Maxillofacial Surgery, MFDS RCS\n",
       "Name: Qualification, dtype: object"
      ]
     },
     "execution_count": 322,
     "metadata": {},
     "output_type": "execute_result"
    }
   ],
   "source": [
    "df['Qualification'].head(50)"
   ]
  },
  {
   "cell_type": "code",
   "execution_count": 323,
   "metadata": {},
   "outputs": [],
   "source": [
    "# df['Misc'] = df['Miscellaneous_Info'].str.split('%').str[0]\n",
    "# df['Misc']"
   ]
  },
  {
   "cell_type": "code",
   "execution_count": 324,
   "metadata": {},
   "outputs": [],
   "source": [
    "# df['Misc_len'] = df['Misc'].str.len()\n",
    "# df['Misc_len']"
   ]
  },
  {
   "cell_type": "code",
   "execution_count": 325,
   "metadata": {},
   "outputs": [],
   "source": [
    "# df.loc[df['Misc_len']>3, 'Misc'] = 0"
   ]
  },
  {
   "cell_type": "code",
   "execution_count": 326,
   "metadata": {},
   "outputs": [],
   "source": [
    "# df['Misc'].fillna(0,inplace = True)\n"
   ]
  },
  {
   "cell_type": "code",
   "execution_count": 327,
   "metadata": {},
   "outputs": [],
   "source": [
    "# df['Misc'].replace('NA',np.NaN)"
   ]
  },
  {
   "cell_type": "code",
   "execution_count": 328,
   "metadata": {},
   "outputs": [],
   "source": [
    "# df['Misc'].fillna(0,inplace = True)\n"
   ]
  },
  {
   "cell_type": "code",
   "execution_count": 329,
   "metadata": {},
   "outputs": [],
   "source": [
    "# df['Misc'] = df['Misc'].replace(NA,0)"
   ]
  },
  {
   "cell_type": "code",
   "execution_count": 330,
   "metadata": {},
   "outputs": [],
   "source": [
    "# df['Misc'] = df['Misc'].replace({ 'NA' : 0 },inplace= True)\n",
    "# df['Misc'] = df['Misc'].astype(int)"
   ]
  },
  {
   "cell_type": "code",
   "execution_count": 331,
   "metadata": {},
   "outputs": [],
   "source": [
    "# df['Misc'] = df['Misc'].astype(float)"
   ]
  },
  {
   "cell_type": "code",
   "execution_count": 332,
   "metadata": {},
   "outputs": [],
   "source": [
    "# df['Misc_2'] = df['Miscellaneous_Info'].str.split('% ').str[1]\n"
   ]
  },
  {
   "cell_type": "code",
   "execution_count": 333,
   "metadata": {},
   "outputs": [],
   "source": [
    "# df['Misc_2']"
   ]
  },
  {
   "cell_type": "code",
   "execution_count": 334,
   "metadata": {},
   "outputs": [],
   "source": [
    "# df['Misc_3'] = df['Misc_2'].str.split(' ').str[0]\n"
   ]
  },
  {
   "cell_type": "code",
   "execution_count": 335,
   "metadata": {},
   "outputs": [],
   "source": [
    "# df['Misc_3']"
   ]
  },
  {
   "cell_type": "code",
   "execution_count": 336,
   "metadata": {},
   "outputs": [],
   "source": [
    "# df['Misc_3'].fillna(0,inplace = True)\n"
   ]
  },
  {
   "cell_type": "code",
   "execution_count": 337,
   "metadata": {},
   "outputs": [],
   "source": [
    "# df['Misc_3_len'] = df['Misc_3'].str.len()\n"
   ]
  },
  {
   "cell_type": "code",
   "execution_count": 338,
   "metadata": {},
   "outputs": [],
   "source": [
    "# df['Misc_3_len']"
   ]
  },
  {
   "cell_type": "code",
   "execution_count": 339,
   "metadata": {},
   "outputs": [],
   "source": [
    "# df.loc[df['Misc_3_len']>3, 'Misc_3'] = 0\n"
   ]
  },
  {
   "cell_type": "code",
   "execution_count": 340,
   "metadata": {},
   "outputs": [],
   "source": [
    "# df.loc[df['Misc_3']==',', 'Misc_3'] = 0\n"
   ]
  },
  {
   "cell_type": "code",
   "execution_count": 341,
   "metadata": {},
   "outputs": [],
   "source": [
    "# df['Misc_3_len']"
   ]
  },
  {
   "cell_type": "code",
   "execution_count": 342,
   "metadata": {},
   "outputs": [],
   "source": [
    "# df['Misc_3'] = df['Misc_3'].astype(int)"
   ]
  },
  {
   "cell_type": "code",
   "execution_count": 343,
   "metadata": {},
   "outputs": [
    {
     "data": {
      "text/html": [
       "<div>\n",
       "<style scoped>\n",
       "    .dataframe tbody tr th:only-of-type {\n",
       "        vertical-align: middle;\n",
       "    }\n",
       "\n",
       "    .dataframe tbody tr th {\n",
       "        vertical-align: top;\n",
       "    }\n",
       "\n",
       "    .dataframe thead th {\n",
       "        text-align: right;\n",
       "    }\n",
       "</style>\n",
       "<table border=\"1\" class=\"dataframe\">\n",
       "  <thead>\n",
       "    <tr style=\"text-align: right;\">\n",
       "      <th></th>\n",
       "      <th>Experience</th>\n",
       "      <th>Fees</th>\n",
       "      <th>Miscellaneous_Info</th>\n",
       "      <th>Profile</th>\n",
       "      <th>Qualification</th>\n",
       "      <th>Rating</th>\n",
       "      <th>type</th>\n",
       "      <th>Qual_1</th>\n",
       "      <th>Qual_2</th>\n",
       "      <th>Qual_3</th>\n",
       "      <th>city</th>\n",
       "    </tr>\n",
       "  </thead>\n",
       "  <tbody>\n",
       "    <tr>\n",
       "      <td>0</td>\n",
       "      <td>24</td>\n",
       "      <td>100.00000</td>\n",
       "      <td>100% 16 Feedback Kakkanad, Ernakulam</td>\n",
       "      <td>5</td>\n",
       "      <td>BHMS, MD - Homeopathy</td>\n",
       "      <td>100.0</td>\n",
       "      <td>train</td>\n",
       "      <td>BHMS</td>\n",
       "      <td>MD - Homeopathy</td>\n",
       "      <td>NaN</td>\n",
       "      <td>Ernakulam</td>\n",
       "    </tr>\n",
       "    <tr>\n",
       "      <td>1</td>\n",
       "      <td>12</td>\n",
       "      <td>350.00000</td>\n",
       "      <td>98% 76 Feedback Whitefield, Bangalore</td>\n",
       "      <td>0</td>\n",
       "      <td>BAMS, MD - Ayurveda Medicine</td>\n",
       "      <td>98.0</td>\n",
       "      <td>train</td>\n",
       "      <td>BAMS</td>\n",
       "      <td>MD - Ayurveda Medicine</td>\n",
       "      <td>NaN</td>\n",
       "      <td>Bangalore</td>\n",
       "    </tr>\n",
       "    <tr>\n",
       "      <td>2</td>\n",
       "      <td>9</td>\n",
       "      <td>300.00000</td>\n",
       "      <td>NA</td>\n",
       "      <td>3</td>\n",
       "      <td>MBBS, MS - Otorhinolaryngology</td>\n",
       "      <td>50.0</td>\n",
       "      <td>train</td>\n",
       "      <td>MBBS</td>\n",
       "      <td>MS - Otorhinolaryngology</td>\n",
       "      <td>NaN</td>\n",
       "      <td>Bangalore</td>\n",
       "    </tr>\n",
       "    <tr>\n",
       "      <td>3</td>\n",
       "      <td>12</td>\n",
       "      <td>250.00000</td>\n",
       "      <td>Bannerghatta Road, Bangalore ₹250 Available on...</td>\n",
       "      <td>0</td>\n",
       "      <td>BSc - Zoology, BAMS</td>\n",
       "      <td>50.0</td>\n",
       "      <td>train</td>\n",
       "      <td>BSc - Zoology</td>\n",
       "      <td>BAMS</td>\n",
       "      <td>NaN</td>\n",
       "      <td>Bangalore</td>\n",
       "    </tr>\n",
       "    <tr>\n",
       "      <td>4</td>\n",
       "      <td>20</td>\n",
       "      <td>250.00000</td>\n",
       "      <td>100% 4 Feedback Keelkattalai, Chennai</td>\n",
       "      <td>0</td>\n",
       "      <td>BAMS</td>\n",
       "      <td>100.0</td>\n",
       "      <td>train</td>\n",
       "      <td>BAMS</td>\n",
       "      <td>NaN</td>\n",
       "      <td>NaN</td>\n",
       "      <td>Chennai</td>\n",
       "    </tr>\n",
       "    <tr>\n",
       "      <td>...</td>\n",
       "      <td>...</td>\n",
       "      <td>...</td>\n",
       "      <td>...</td>\n",
       "      <td>...</td>\n",
       "      <td>...</td>\n",
       "      <td>...</td>\n",
       "      <td>...</td>\n",
       "      <td>...</td>\n",
       "      <td>...</td>\n",
       "      <td>...</td>\n",
       "      <td>...</td>\n",
       "    </tr>\n",
       "    <tr>\n",
       "      <td>7943</td>\n",
       "      <td>10</td>\n",
       "      <td>307.94464</td>\n",
       "      <td>NA</td>\n",
       "      <td>0</td>\n",
       "      <td>BAMS, Doctor of Medicine</td>\n",
       "      <td>50.0</td>\n",
       "      <td>test</td>\n",
       "      <td>BAMS</td>\n",
       "      <td>Doctor of Medicine</td>\n",
       "      <td>NaN</td>\n",
       "      <td>Bangalore</td>\n",
       "    </tr>\n",
       "    <tr>\n",
       "      <td>7944</td>\n",
       "      <td>4</td>\n",
       "      <td>307.94464</td>\n",
       "      <td>NA</td>\n",
       "      <td>2</td>\n",
       "      <td>MD - Dermatology , Venereology &amp; Leprosy, MBBS</td>\n",
       "      <td>50.0</td>\n",
       "      <td>test</td>\n",
       "      <td>MD - Dermatology</td>\n",
       "      <td>Venereology &amp; Leprosy</td>\n",
       "      <td>MBBS</td>\n",
       "      <td>Chennai</td>\n",
       "    </tr>\n",
       "    <tr>\n",
       "      <td>7945</td>\n",
       "      <td>9</td>\n",
       "      <td>307.94464</td>\n",
       "      <td>NA</td>\n",
       "      <td>4</td>\n",
       "      <td>MBBS, MD / MS - Obstetrics &amp; Gynaecology</td>\n",
       "      <td>50.0</td>\n",
       "      <td>test</td>\n",
       "      <td>MBBS</td>\n",
       "      <td>MD / MS - Obstetrics &amp; Gynaecology</td>\n",
       "      <td>NaN</td>\n",
       "      <td>Chennai</td>\n",
       "    </tr>\n",
       "    <tr>\n",
       "      <td>7946</td>\n",
       "      <td>12</td>\n",
       "      <td>307.94464</td>\n",
       "      <td>RCT - Root Canal Treatment Root Canal Treatmen...</td>\n",
       "      <td>1</td>\n",
       "      <td>BDS</td>\n",
       "      <td>98.0</td>\n",
       "      <td>test</td>\n",
       "      <td>BDS</td>\n",
       "      <td>NaN</td>\n",
       "      <td>NaN</td>\n",
       "      <td>Bangalore</td>\n",
       "    </tr>\n",
       "    <tr>\n",
       "      <td>7947</td>\n",
       "      <td>8</td>\n",
       "      <td>307.94464</td>\n",
       "      <td>1 Feedback Pallikaranai, Chennai ₹500</td>\n",
       "      <td>2</td>\n",
       "      <td>MBBS, MD - Dermatology , Venereology &amp; Leprosy</td>\n",
       "      <td>50.0</td>\n",
       "      <td>test</td>\n",
       "      <td>MBBS</td>\n",
       "      <td>MD - Dermatology</td>\n",
       "      <td>Venereology &amp; Leprosy</td>\n",
       "      <td>Chennai</td>\n",
       "    </tr>\n",
       "  </tbody>\n",
       "</table>\n",
       "<p>7948 rows × 11 columns</p>\n",
       "</div>"
      ],
      "text/plain": [
       "     Experience       Fees                                 Miscellaneous_Info  \\\n",
       "0            24  100.00000               100% 16 Feedback Kakkanad, Ernakulam   \n",
       "1            12  350.00000              98% 76 Feedback Whitefield, Bangalore   \n",
       "2             9  300.00000                                                 NA   \n",
       "3            12  250.00000  Bannerghatta Road, Bangalore ₹250 Available on...   \n",
       "4            20  250.00000              100% 4 Feedback Keelkattalai, Chennai   \n",
       "...         ...        ...                                                ...   \n",
       "7943         10  307.94464                                                 NA   \n",
       "7944          4  307.94464                                                 NA   \n",
       "7945          9  307.94464                                                 NA   \n",
       "7946         12  307.94464  RCT - Root Canal Treatment Root Canal Treatmen...   \n",
       "7947          8  307.94464              1 Feedback Pallikaranai, Chennai ₹500   \n",
       "\n",
       "      Profile                                   Qualification  Rating   type  \\\n",
       "0           5                           BHMS, MD - Homeopathy   100.0  train   \n",
       "1           0                    BAMS, MD - Ayurveda Medicine    98.0  train   \n",
       "2           3                  MBBS, MS - Otorhinolaryngology    50.0  train   \n",
       "3           0                             BSc - Zoology, BAMS    50.0  train   \n",
       "4           0                                            BAMS   100.0  train   \n",
       "...       ...                                             ...     ...    ...   \n",
       "7943        0                        BAMS, Doctor of Medicine    50.0   test   \n",
       "7944        2  MD - Dermatology , Venereology & Leprosy, MBBS    50.0   test   \n",
       "7945        4        MBBS, MD / MS - Obstetrics & Gynaecology    50.0   test   \n",
       "7946        1                                             BDS    98.0   test   \n",
       "7947        2  MBBS, MD - Dermatology , Venereology & Leprosy    50.0   test   \n",
       "\n",
       "                 Qual_1                               Qual_2  \\\n",
       "0                  BHMS                      MD - Homeopathy   \n",
       "1                  BAMS               MD - Ayurveda Medicine   \n",
       "2                  MBBS             MS - Otorhinolaryngology   \n",
       "3         BSc - Zoology                                 BAMS   \n",
       "4                  BAMS                                  NaN   \n",
       "...                 ...                                  ...   \n",
       "7943               BAMS                   Doctor of Medicine   \n",
       "7944  MD - Dermatology                 Venereology & Leprosy   \n",
       "7945               MBBS   MD / MS - Obstetrics & Gynaecology   \n",
       "7946                BDS                                  NaN   \n",
       "7947               MBBS                    MD - Dermatology    \n",
       "\n",
       "                      Qual_3        city  \n",
       "0                        NaN   Ernakulam  \n",
       "1                        NaN   Bangalore  \n",
       "2                        NaN   Bangalore  \n",
       "3                        NaN   Bangalore  \n",
       "4                        NaN     Chennai  \n",
       "...                      ...         ...  \n",
       "7943                     NaN   Bangalore  \n",
       "7944                    MBBS     Chennai  \n",
       "7945                     NaN     Chennai  \n",
       "7946                     NaN   Bangalore  \n",
       "7947   Venereology & Leprosy     Chennai  \n",
       "\n",
       "[7948 rows x 11 columns]"
      ]
     },
     "execution_count": 343,
     "metadata": {},
     "output_type": "execute_result"
    }
   ],
   "source": [
    "df"
   ]
  },
  {
   "cell_type": "code",
   "execution_count": 344,
   "metadata": {},
   "outputs": [],
   "source": [
    "othr = 'others'\n",
    "df['Qual_3'].fillna(othr,inplace=True)\n",
    "df['Qual_2'].fillna(othr,inplace=True)\n",
    "df['Qual_1'].fillna(othr,inplace=True)"
   ]
  },
  {
   "cell_type": "code",
   "execution_count": 345,
   "metadata": {},
   "outputs": [],
   "source": [
    "df['Qual_1'] = encoder.fit_transform(df['Qual_1'])\n",
    "df['Qual_2'] = encoder.fit_transform(df['Qual_2'])\n",
    "df['Qual_3'] = encoder.fit_transform(df['Qual_3'])"
   ]
  },
  {
   "cell_type": "code",
   "execution_count": 346,
   "metadata": {},
   "outputs": [],
   "source": [
    "df['city'] = encoder.fit_transform(df['city'])"
   ]
  },
  {
   "cell_type": "code",
   "execution_count": 347,
   "metadata": {},
   "outputs": [],
   "source": [
    "df = df.drop(['Qualification','Miscellaneous_Info'],axis=1)"
   ]
  },
  {
   "cell_type": "code",
   "execution_count": 348,
   "metadata": {},
   "outputs": [],
   "source": [
    "df_train = df.loc[df[\"type\"]==\"train\"]\n",
    "df_test = df.loc[df[\"type\"]==\"test\"]\n"
   ]
  },
  {
   "cell_type": "code",
   "execution_count": 349,
   "metadata": {},
   "outputs": [],
   "source": [
    "df_train = df_train.drop(['type'],axis=1)\n",
    "df_test = df_test.drop(['type'],axis=1)"
   ]
  },
  {
   "cell_type": "code",
   "execution_count": 350,
   "metadata": {},
   "outputs": [
    {
     "data": {
      "text/html": [
       "<div>\n",
       "<style scoped>\n",
       "    .dataframe tbody tr th:only-of-type {\n",
       "        vertical-align: middle;\n",
       "    }\n",
       "\n",
       "    .dataframe tbody tr th {\n",
       "        vertical-align: top;\n",
       "    }\n",
       "\n",
       "    .dataframe thead th {\n",
       "        text-align: right;\n",
       "    }\n",
       "</style>\n",
       "<table border=\"1\" class=\"dataframe\">\n",
       "  <thead>\n",
       "    <tr style=\"text-align: right;\">\n",
       "      <th></th>\n",
       "      <th>Experience</th>\n",
       "      <th>Fees</th>\n",
       "      <th>Profile</th>\n",
       "      <th>Rating</th>\n",
       "      <th>Qual_1</th>\n",
       "      <th>Qual_2</th>\n",
       "      <th>Qual_3</th>\n",
       "      <th>city</th>\n",
       "    </tr>\n",
       "  </thead>\n",
       "  <tbody>\n",
       "    <tr>\n",
       "      <td>0</td>\n",
       "      <td>24</td>\n",
       "      <td>100.0</td>\n",
       "      <td>5</td>\n",
       "      <td>100.0</td>\n",
       "      <td>8</td>\n",
       "      <td>293</td>\n",
       "      <td>481</td>\n",
       "      <td>4</td>\n",
       "    </tr>\n",
       "    <tr>\n",
       "      <td>1</td>\n",
       "      <td>12</td>\n",
       "      <td>350.0</td>\n",
       "      <td>0</td>\n",
       "      <td>98.0</td>\n",
       "      <td>5</td>\n",
       "      <td>282</td>\n",
       "      <td>481</td>\n",
       "      <td>0</td>\n",
       "    </tr>\n",
       "    <tr>\n",
       "      <td>2</td>\n",
       "      <td>9</td>\n",
       "      <td>300.0</td>\n",
       "      <td>3</td>\n",
       "      <td>50.0</td>\n",
       "      <td>101</td>\n",
       "      <td>383</td>\n",
       "      <td>481</td>\n",
       "      <td>0</td>\n",
       "    </tr>\n",
       "    <tr>\n",
       "      <td>3</td>\n",
       "      <td>12</td>\n",
       "      <td>250.0</td>\n",
       "      <td>0</td>\n",
       "      <td>50.0</td>\n",
       "      <td>14</td>\n",
       "      <td>10</td>\n",
       "      <td>481</td>\n",
       "      <td>0</td>\n",
       "    </tr>\n",
       "    <tr>\n",
       "      <td>4</td>\n",
       "      <td>20</td>\n",
       "      <td>250.0</td>\n",
       "      <td>0</td>\n",
       "      <td>100.0</td>\n",
       "      <td>5</td>\n",
       "      <td>495</td>\n",
       "      <td>481</td>\n",
       "      <td>1</td>\n",
       "    </tr>\n",
       "    <tr>\n",
       "      <td>...</td>\n",
       "      <td>...</td>\n",
       "      <td>...</td>\n",
       "      <td>...</td>\n",
       "      <td>...</td>\n",
       "      <td>...</td>\n",
       "      <td>...</td>\n",
       "      <td>...</td>\n",
       "      <td>...</td>\n",
       "    </tr>\n",
       "    <tr>\n",
       "      <td>5956</td>\n",
       "      <td>19</td>\n",
       "      <td>300.0</td>\n",
       "      <td>3</td>\n",
       "      <td>98.0</td>\n",
       "      <td>101</td>\n",
       "      <td>376</td>\n",
       "      <td>481</td>\n",
       "      <td>0</td>\n",
       "    </tr>\n",
       "    <tr>\n",
       "      <td>5957</td>\n",
       "      <td>33</td>\n",
       "      <td>100.0</td>\n",
       "      <td>4</td>\n",
       "      <td>50.0</td>\n",
       "      <td>101</td>\n",
       "      <td>495</td>\n",
       "      <td>481</td>\n",
       "      <td>1</td>\n",
       "    </tr>\n",
       "    <tr>\n",
       "      <td>5958</td>\n",
       "      <td>41</td>\n",
       "      <td>600.0</td>\n",
       "      <td>4</td>\n",
       "      <td>97.0</td>\n",
       "      <td>101</td>\n",
       "      <td>495</td>\n",
       "      <td>481</td>\n",
       "      <td>3</td>\n",
       "    </tr>\n",
       "    <tr>\n",
       "      <td>5959</td>\n",
       "      <td>15</td>\n",
       "      <td>100.0</td>\n",
       "      <td>4</td>\n",
       "      <td>90.0</td>\n",
       "      <td>101</td>\n",
       "      <td>290</td>\n",
       "      <td>481</td>\n",
       "      <td>6</td>\n",
       "    </tr>\n",
       "    <tr>\n",
       "      <td>5960</td>\n",
       "      <td>17</td>\n",
       "      <td>200.0</td>\n",
       "      <td>1</td>\n",
       "      <td>100.0</td>\n",
       "      <td>6</td>\n",
       "      <td>337</td>\n",
       "      <td>481</td>\n",
       "      <td>3</td>\n",
       "    </tr>\n",
       "  </tbody>\n",
       "</table>\n",
       "<p>5961 rows × 8 columns</p>\n",
       "</div>"
      ],
      "text/plain": [
       "     Experience   Fees  Profile  Rating  Qual_1  Qual_2  Qual_3  city\n",
       "0            24  100.0        5   100.0       8     293     481     4\n",
       "1            12  350.0        0    98.0       5     282     481     0\n",
       "2             9  300.0        3    50.0     101     383     481     0\n",
       "3            12  250.0        0    50.0      14      10     481     0\n",
       "4            20  250.0        0   100.0       5     495     481     1\n",
       "...         ...    ...      ...     ...     ...     ...     ...   ...\n",
       "5956         19  300.0        3    98.0     101     376     481     0\n",
       "5957         33  100.0        4    50.0     101     495     481     1\n",
       "5958         41  600.0        4    97.0     101     495     481     3\n",
       "5959         15  100.0        4    90.0     101     290     481     6\n",
       "5960         17  200.0        1   100.0       6     337     481     3\n",
       "\n",
       "[5961 rows x 8 columns]"
      ]
     },
     "execution_count": 350,
     "metadata": {},
     "output_type": "execute_result"
    }
   ],
   "source": [
    "df_train"
   ]
  },
  {
   "cell_type": "code",
   "execution_count": 351,
   "metadata": {},
   "outputs": [],
   "source": [
    "df_x = df_train.drop(columns=[\"Fees\"])\n",
    "df_y = df_train[[\"Fees\"]]\n"
   ]
  },
  {
   "cell_type": "code",
   "execution_count": 352,
   "metadata": {},
   "outputs": [
    {
     "name": "stdout",
     "output_type": "stream",
     "text": [
      "     Experience  Profile  Rating  Qual_1  Qual_2  Qual_3  city\n",
      "0            24        5   100.0       8     293     481     4\n",
      "1            12        0    98.0       5     282     481     0\n",
      "2             9        3    50.0     101     383     481     0\n",
      "3            12        0    50.0      14      10     481     0\n",
      "4            20        0   100.0       5     495     481     1\n",
      "...         ...      ...     ...     ...     ...     ...   ...\n",
      "5956         19        3    98.0     101     376     481     0\n",
      "5957         33        4    50.0     101     495     481     1\n",
      "5958         41        4    97.0     101     495     481     3\n",
      "5959         15        4    90.0     101     290     481     6\n",
      "5960         17        1   100.0       6     337     481     3\n",
      "\n",
      "[5961 rows x 7 columns]        Fees\n",
      "0     100.0\n",
      "1     350.0\n",
      "2     300.0\n",
      "3     250.0\n",
      "4     250.0\n",
      "...     ...\n",
      "5956  300.0\n",
      "5957  100.0\n",
      "5958  600.0\n",
      "5959  100.0\n",
      "5960  200.0\n",
      "\n",
      "[5961 rows x 1 columns]\n"
     ]
    }
   ],
   "source": [
    "print(df_x,df_y)"
   ]
  },
  {
   "cell_type": "code",
   "execution_count": 353,
   "metadata": {},
   "outputs": [],
   "source": [
    "from sklearn.preprocessing import StandardScaler\n",
    "sc = StandardScaler()\n",
    "x = sc.fit_transform(df_x)\n",
    "x = pd.DataFrame(x,columns=df_x.columns)"
   ]
  },
  {
   "cell_type": "code",
   "execution_count": 354,
   "metadata": {},
   "outputs": [],
   "source": [
    "from sklearn.model_selection import train_test_split as tts\n",
    "from sklearn.linear_model import LinearRegression\n",
    "from sklearn.neighbors import KNeighborsRegressor\n",
    "from sklearn.svm import SVR\n",
    "from sklearn.tree import DecisionTreeRegressor\n",
    "from sklearn.ensemble import RandomForestRegressor,AdaBoostRegressor,GradientBoostingRegressor,BaggingRegressor\n",
    "from sklearn.ensemble import VotingRegressor\n",
    "# from xgboost import XGBRegressor\n",
    "# from lightgbm import LGBMRegressor\n",
    "from sklearn.metrics import r2_score,mean_absolute_error,mean_squared_log_error\n",
    "\n",
    "\n"
   ]
  },
  {
   "cell_type": "code",
   "execution_count": 355,
   "metadata": {},
   "outputs": [],
   "source": [
    "results = pd.DataFrame(columns=['model','R2 Score','MAE','RMSE','mean error','median error','error score'])\n"
   ]
  },
  {
   "cell_type": "code",
   "execution_count": 356,
   "metadata": {},
   "outputs": [],
   "source": [
    "models_name = ['linear regression','KNN','SVM(rbf)','decision tree','RandomForest','AdaBoost',\n",
    "                'gradientboost','bagging',]"
   ]
  },
  {
   "cell_type": "code",
   "execution_count": 357,
   "metadata": {},
   "outputs": [],
   "source": [
    "model_list = [LinearRegression(),KNeighborsRegressor(),SVR(),DecisionTreeRegressor(), RandomForestRegressor(),\n",
    "              AdaBoostRegressor(),GradientBoostingRegressor(),BaggingRegressor()]"
   ]
  },
  {
   "cell_type": "code",
   "execution_count": 358,
   "metadata": {},
   "outputs": [],
   "source": [
    "from sklearn.model_selection import train_test_split,KFold,cross_val_score,GridSearchCV,RandomizedSearchCV"
   ]
  },
  {
   "cell_type": "code",
   "execution_count": 359,
   "metadata": {},
   "outputs": [
    {
     "name": "stderr",
     "output_type": "stream",
     "text": [
      "[Parallel(n_jobs=-1)]: Using backend LokyBackend with 4 concurrent workers.\n",
      "[Parallel(n_jobs=-1)]: Done   5 out of   5 | elapsed:    0.1s finished\n",
      "[Parallel(n_jobs=-1)]: Using backend LokyBackend with 4 concurrent workers.\n",
      "[Parallel(n_jobs=-1)]: Done   5 out of   5 | elapsed:    0.1s finished\n",
      "[Parallel(n_jobs=-1)]: Using backend LokyBackend with 4 concurrent workers.\n",
      "[Parallel(n_jobs=-1)]: Done   5 out of   5 | elapsed:    4.1s finished\n",
      "/home/sk-ji/anaconda3/lib/python3.7/site-packages/sklearn/utils/validation.py:724: DataConversionWarning: A column-vector y was passed when a 1d array was expected. Please change the shape of y to (n_samples, ), for example using ravel().\n",
      "  y = column_or_1d(y, warn=True)\n",
      "/home/sk-ji/anaconda3/lib/python3.7/site-packages/sklearn/svm/base.py:193: FutureWarning: The default value of gamma will change from 'auto' to 'scale' in version 0.22 to account better for unscaled features. Set gamma explicitly to 'auto' or 'scale' to avoid this warning.\n",
      "  \"avoid this warning.\", FutureWarning)\n",
      "[Parallel(n_jobs=-1)]: Using backend LokyBackend with 4 concurrent workers.\n",
      "[Parallel(n_jobs=-1)]: Done   5 out of   5 | elapsed:    0.1s finished\n",
      "[Parallel(n_jobs=-1)]: Using backend LokyBackend with 4 concurrent workers.\n",
      "[Parallel(n_jobs=-1)]: Done   5 out of   5 | elapsed:    0.4s finished\n",
      "/home/sk-ji/anaconda3/lib/python3.7/site-packages/sklearn/ensemble/forest.py:245: FutureWarning: The default value of n_estimators will change from 10 in version 0.20 to 100 in 0.22.\n",
      "  \"10 in version 0.20 to 100 in 0.22.\", FutureWarning)\n",
      "/home/sk-ji/anaconda3/lib/python3.7/site-packages/ipykernel_launcher.py:6: DataConversionWarning: A column-vector y was passed when a 1d array was expected. Please change the shape of y to (n_samples,), for example using ravel().\n",
      "  \n",
      "[Parallel(n_jobs=-1)]: Using backend LokyBackend with 4 concurrent workers.\n",
      "[Parallel(n_jobs=-1)]: Done   5 out of   5 | elapsed:    0.5s finished\n",
      "/home/sk-ji/anaconda3/lib/python3.7/site-packages/sklearn/utils/validation.py:724: DataConversionWarning: A column-vector y was passed when a 1d array was expected. Please change the shape of y to (n_samples, ), for example using ravel().\n",
      "  y = column_or_1d(y, warn=True)\n",
      "[Parallel(n_jobs=-1)]: Using backend LokyBackend with 4 concurrent workers.\n",
      "[Parallel(n_jobs=-1)]: Done   5 out of   5 | elapsed:    0.6s finished\n",
      "/home/sk-ji/anaconda3/lib/python3.7/site-packages/sklearn/ensemble/gradient_boosting.py:1450: DataConversionWarning: A column-vector y was passed when a 1d array was expected. Please change the shape of y to (n_samples, ), for example using ravel().\n",
      "  y = column_or_1d(y, warn=True)\n",
      "[Parallel(n_jobs=-1)]: Using backend LokyBackend with 4 concurrent workers.\n",
      "[Parallel(n_jobs=-1)]: Done   5 out of   5 | elapsed:    0.5s finished\n",
      "/home/sk-ji/anaconda3/lib/python3.7/site-packages/sklearn/ensemble/bagging.py:398: DataConversionWarning: A column-vector y was passed when a 1d array was expected. Please change the shape of y to (n_samples, ), for example using ravel().\n",
      "  return column_or_1d(y, warn=True)\n"
     ]
    },
    {
     "data": {
      "text/html": [
       "<div>\n",
       "<style scoped>\n",
       "    .dataframe tbody tr th:only-of-type {\n",
       "        vertical-align: middle;\n",
       "    }\n",
       "\n",
       "    .dataframe tbody tr th {\n",
       "        vertical-align: top;\n",
       "    }\n",
       "\n",
       "    .dataframe thead th {\n",
       "        text-align: right;\n",
       "    }\n",
       "</style>\n",
       "<table border=\"1\" class=\"dataframe\">\n",
       "  <thead>\n",
       "    <tr style=\"text-align: right;\">\n",
       "      <th></th>\n",
       "      <th>model</th>\n",
       "      <th>R2 Score</th>\n",
       "      <th>MAE</th>\n",
       "      <th>RMSE</th>\n",
       "      <th>mean error</th>\n",
       "      <th>median error</th>\n",
       "      <th>error score</th>\n",
       "    </tr>\n",
       "  </thead>\n",
       "  <tbody>\n",
       "    <tr>\n",
       "      <td>0</td>\n",
       "      <td>linear regression</td>\n",
       "      <td>0.102266</td>\n",
       "      <td>143.981511</td>\n",
       "      <td>[0.6738580415307966, 0.6866659046537269, 0.691...</td>\n",
       "      <td>-0.454751</td>\n",
       "      <td>-0.454085</td>\n",
       "      <td>[-0.45408466013572085, -0.4715100646139212, -0...</td>\n",
       "    </tr>\n",
       "    <tr>\n",
       "      <td>1</td>\n",
       "      <td>KNN</td>\n",
       "      <td>0.073305</td>\n",
       "      <td>138.905028</td>\n",
       "      <td>[0.6849419763123908, 0.685145607114301, 0.7042...</td>\n",
       "      <td>-0.469233</td>\n",
       "      <td>-0.469425</td>\n",
       "      <td>[-0.46914551091472373, -0.469424502948024, -0....</td>\n",
       "    </tr>\n",
       "    <tr>\n",
       "      <td>2</td>\n",
       "      <td>SVM(rbf)</td>\n",
       "      <td>0.014753</td>\n",
       "      <td>150.506663</td>\n",
       "      <td>[0.6900108760374444, 0.709154337312141, 0.7068...</td>\n",
       "      <td>-0.483310</td>\n",
       "      <td>-0.479075</td>\n",
       "      <td>[-0.4761150090499614, -0.5028998741286218, -0....</td>\n",
       "    </tr>\n",
       "    <tr>\n",
       "      <td>3</td>\n",
       "      <td>decision tree</td>\n",
       "      <td>-0.635321</td>\n",
       "      <td>172.454106</td>\n",
       "      <td>[0.8417119118629031, 0.8278084094864004, 0.848...</td>\n",
       "      <td>-0.681730</td>\n",
       "      <td>-0.685267</td>\n",
       "      <td>[-0.7084789425719036, -0.6852667628164041, -0....</td>\n",
       "    </tr>\n",
       "    <tr>\n",
       "      <td>4</td>\n",
       "      <td>RandomForest</td>\n",
       "      <td>0.040649</td>\n",
       "      <td>139.682685</td>\n",
       "      <td>[0.6919218334729454, 0.6879838084854129, 0.692...</td>\n",
       "      <td>-0.462169</td>\n",
       "      <td>-0.473322</td>\n",
       "      <td>[-0.47875582363656244, -0.47332172073809325, -...</td>\n",
       "    </tr>\n",
       "    <tr>\n",
       "      <td>5</td>\n",
       "      <td>AdaBoost</td>\n",
       "      <td>0.112019</td>\n",
       "      <td>145.163111</td>\n",
       "      <td>[0.6970460064892869, 0.7110188558148561, 0.717...</td>\n",
       "      <td>-0.487046</td>\n",
       "      <td>-0.485873</td>\n",
       "      <td>[-0.485873135162663, -0.5055478133242671, -0.5...</td>\n",
       "    </tr>\n",
       "    <tr>\n",
       "      <td>6</td>\n",
       "      <td>gradientboost</td>\n",
       "      <td>0.205456</td>\n",
       "      <td>130.643349</td>\n",
       "      <td>[0.6370467805878239, 0.6449991446152429, 0.653...</td>\n",
       "      <td>-0.402670</td>\n",
       "      <td>-0.405829</td>\n",
       "      <td>[-0.405828600657311, -0.41602389655439503, -0....</td>\n",
       "    </tr>\n",
       "    <tr>\n",
       "      <td>7</td>\n",
       "      <td>bagging</td>\n",
       "      <td>0.069630</td>\n",
       "      <td>138.287683</td>\n",
       "      <td>[0.6820084539560628, 0.690966732063294, 0.6966...</td>\n",
       "      <td>-0.468465</td>\n",
       "      <td>-0.465136</td>\n",
       "      <td>[-0.4651355312675391, -0.4774350248182279, -0....</td>\n",
       "    </tr>\n",
       "  </tbody>\n",
       "</table>\n",
       "</div>"
      ],
      "text/plain": [
       "               model  R2 Score         MAE  \\\n",
       "0  linear regression  0.102266  143.981511   \n",
       "1                KNN  0.073305  138.905028   \n",
       "2           SVM(rbf)  0.014753  150.506663   \n",
       "3      decision tree -0.635321  172.454106   \n",
       "4       RandomForest  0.040649  139.682685   \n",
       "5           AdaBoost  0.112019  145.163111   \n",
       "6      gradientboost  0.205456  130.643349   \n",
       "7            bagging  0.069630  138.287683   \n",
       "\n",
       "                                                RMSE  mean error  \\\n",
       "0  [0.6738580415307966, 0.6866659046537269, 0.691...   -0.454751   \n",
       "1  [0.6849419763123908, 0.685145607114301, 0.7042...   -0.469233   \n",
       "2  [0.6900108760374444, 0.709154337312141, 0.7068...   -0.483310   \n",
       "3  [0.8417119118629031, 0.8278084094864004, 0.848...   -0.681730   \n",
       "4  [0.6919218334729454, 0.6879838084854129, 0.692...   -0.462169   \n",
       "5  [0.6970460064892869, 0.7110188558148561, 0.717...   -0.487046   \n",
       "6  [0.6370467805878239, 0.6449991446152429, 0.653...   -0.402670   \n",
       "7  [0.6820084539560628, 0.690966732063294, 0.6966...   -0.468465   \n",
       "\n",
       "   median error                                        error score  \n",
       "0     -0.454085  [-0.45408466013572085, -0.4715100646139212, -0...  \n",
       "1     -0.469425  [-0.46914551091472373, -0.469424502948024, -0....  \n",
       "2     -0.479075  [-0.4761150090499614, -0.5028998741286218, -0....  \n",
       "3     -0.685267  [-0.7084789425719036, -0.6852667628164041, -0....  \n",
       "4     -0.473322  [-0.47875582363656244, -0.47332172073809325, -...  \n",
       "5     -0.485873  [-0.485873135162663, -0.5055478133242671, -0.5...  \n",
       "6     -0.405829  [-0.405828600657311, -0.41602389655439503, -0....  \n",
       "7     -0.465136  [-0.4651355312675391, -0.4774350248182279, -0....  "
      ]
     },
     "execution_count": 359,
     "metadata": {},
     "output_type": "execute_result"
    }
   ],
   "source": [
    "kfold = KFold(n_splits=5,shuffle=True,random_state=100)\n",
    "\n",
    "for idx,model in enumerate(model_list):\n",
    "    score=cross_val_score(model,df_x,df_y,scoring='neg_mean_squared_log_error',cv=kfold,n_jobs=-1,verbose=1)\n",
    "    x_train,x_test,y_train,y_test=train_test_split(df_x,df_y,random_state=42,test_size=0.15)\n",
    "    model.fit(x_train,y_train)\n",
    "    y_pred=model.predict(x_test)\n",
    "    rscore=r2_score(y_test,y_pred)\n",
    "    mse = mean_absolute_error(y_pred,y_test)\n",
    "    rmse_scores = np.sqrt(-score)\n",
    "    results.loc[idx] = [models_name[idx],rscore,mse,rmse_scores,score.mean(),np.median(score),score]\n",
    "\n",
    "results    "
   ]
  },
  {
   "cell_type": "code",
   "execution_count": 283,
   "metadata": {},
   "outputs": [
    {
     "name": "stderr",
     "output_type": "stream",
     "text": [
      "/home/sk-ji/anaconda3/lib/python3.7/site-packages/sklearn/externals/joblib/__init__.py:15: DeprecationWarning: sklearn.externals.joblib is deprecated in 0.21 and will be removed in 0.23. Please import this functionality directly from joblib, which can be installed with: pip install joblib. If this warning is raised when loading pickled models, you may need to re-serialize those models with scikit-learn 0.21+.\n",
      "  warnings.warn(msg, category=DeprecationWarning)\n"
     ]
    }
   ],
   "source": [
    "from sklearn.externals import joblib\n"
   ]
  },
  {
   "cell_type": "code",
   "execution_count": 360,
   "metadata": {},
   "outputs": [
    {
     "data": {
      "text/plain": [
       "['project_18_knn.pkl']"
      ]
     },
     "execution_count": 360,
     "metadata": {},
     "output_type": "execute_result"
    }
   ],
   "source": [
    "joblib.dump(KNeighborsRegressor,'project_18_knn.pkl')\n"
   ]
  },
  {
   "cell_type": "code",
   "execution_count": null,
   "metadata": {},
   "outputs": [],
   "source": []
  }
 ],
 "metadata": {
  "kernelspec": {
   "display_name": "Python 3",
   "language": "python",
   "name": "python3"
  },
  "language_info": {
   "codemirror_mode": {
    "name": "ipython",
    "version": 3
   },
   "file_extension": ".py",
   "mimetype": "text/x-python",
   "name": "python",
   "nbconvert_exporter": "python",
   "pygments_lexer": "ipython3",
   "version": "3.7.4"
  }
 },
 "nbformat": 4,
 "nbformat_minor": 2
}
